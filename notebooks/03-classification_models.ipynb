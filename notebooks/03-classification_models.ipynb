{
 "cells": [
  {
   "cell_type": "markdown",
   "id": "46e8ce6e",
   "metadata": {},
   "source": [
    "## Classification Models Notebook\n",
    "This notebook tests different types of sentiment analysis / classification models, namely TextBlob, VADER, DistilBERT, and Lexicon-Based."
   ]
  },
  {
   "cell_type": "code",
   "execution_count": null,
   "id": "ce2ee68d",
   "metadata": {},
   "outputs": [
    {
     "name": "stderr",
     "output_type": "stream",
     "text": [
      "D:\\Anaconda\\envs\\CS426\\lib\\site-packages\\tqdm\\auto.py:21: TqdmWarning: IProgress not found. Please update jupyter and ipywidgets. See https://ipywidgets.readthedocs.io/en/stable/user_install.html\n",
      "  from .autonotebook import tqdm as notebook_tqdm\n"
     ]
    }
   ],
   "source": [
    "from textblob import TextBlob\n",
    "from vaderSentiment.vaderSentiment import SentimentIntensityAnalyzer\n",
    "from transformers import pipeline"
   ]
  },
  {
   "cell_type": "markdown",
   "id": "0dc0a272",
   "metadata": {},
   "source": [
    "## Define Test Dataset\n",
    "This data was randomly selected from the entire pool of patch notes. The data was manually labeled as either a nerf (0), buff (1), or neutral (2) to serve as the ground truth to calculate classification accuracy."
   ]
  },
  {
   "cell_type": "code",
   "execution_count": 2,
   "id": "b421e48d",
   "metadata": {},
   "outputs": [],
   "source": [
    "test_labels = [0, 0, 2, 0, 1, 2, 2, 2, 1, 2, 0, 1, 2, 2, 0, 2, 0, 1, 2, 2, 1, 0, 1, 1, 1, 1, 2, 2, 1, 1, 2, 2, 2, 2, 2,\n",
    "              1, 0, 0, 1, 2, 1, 1, 2, 2, 2, 1, 1, 2, 2]\n",
    "test_text = [\n",
    "    \"Shield AP ratio reduced to 45% AP from 50% AP.\",\n",
    "    \"Base health regeneration reduced to 3.75 from 6.\",\n",
    "    \"This never affected gameplay.\",\n",
    "    \"H-28Q Apex Turret Base health changed to 725 \\u2212 1525 (based on level) from 850 \\u2212 1450 (based on level).\",\n",
    "    \"Second cast AD ratio increased to 75 / 87.5 / 100 / 112.5 / 125% AD from 75 / 81.25 / 87.5 / 93.75 / 100% AD.\",\n",
    "    \"Scaling changed to (+ 10% AP) (+ 10% armor) from (+ 15% AP).\",\n",
    "    \"Bug Fix: Now uses the correct animation for the attack rather than the default one when he has any passive stacks.\",\n",
    "    \"New in-game quest with  Senna.\",\n",
    "    \"Missile speed increased to 850 from 750.\",\n",
    "    \"Bug Fix: Now properly breaks spell shields.\",\n",
    "    \"Base damage reduced to 70 / 110 / 150 / 190 / 230 from 80 / 120 / 160 / 200 / 240.\",\n",
    "    \"Cooldown reduced to 12 / 11.5 / 11 / 10.5 / 10 seconds from 12 at all ranks.\",\n",
    "    \"Nautilus slams the ground, causing the earth to ripple out in waves.\",\n",
    "    \"Bug Fix: Tower creation SFX and VFX no longer incorrectly play repeatedly upon spawning the tower.\",\n",
    "    \"Cooldown increased to 150 / 120 / 90 seconds from 120 / 90 / 60.\",\n",
    "    \"Her basic attacks each consume 1 stack.\",\n",
    "    \"Self bonus movement speed AP ratio reduced to 3% per 100 AP from 4% per 100 AP.\",\n",
    "    \"Can now be primed while Karma is disabled.\",\n",
    "    \"Fixed a bug where Requiem's team ult HUD indicator would display as available even when it wasn't.\",\n",
    "    \"The cooldown now begins when the ability is successfully cast.\",\n",
    "    \"Base magic resistance increased to 32.1 from 30.\",\n",
    "    \"Explosion AP ratio reduced to 70% AP from 100% AP.\",\n",
    "    \"Increased resistances increased to 12% from 10%.\",\n",
    "    \"Base resistances increased to 20 / 70 / 120 (based on level) from 20 / 60 / 100 (based on level).\",\n",
    "    \"Ability power ratio increased to 0.75 from 0.6.\",\n",
    "    \"Now slows the enemy champion by 99% for 0.25 seconds.\",\n",
    "    \"Cooldown: 14 seconds.\",\n",
    "    \"Bug Fix: Fixed a bug where she was able to recast it on  Gwen while she was in her  Hallowed Mist.\",\n",
    "    \"Non-champion AD ratio increased to 175% AD from 150% AD.\",\n",
    "    \"Thrust range increased by 25 (to 560 from 535).\",\n",
    "    \"New missiles and hits Now has a small cast effect.\",\n",
    "    \"Bug Fix: Now correctly trigger  Overheal.\",\n",
    "    \"Bonus mana regeneration while stealthed changed to +2% missing mana per second from +1% maximum mana per second.\",\n",
    "    \"If he hits an enemy, he'll drag himself to his target and his target to him.\",\n",
    "    \"New dash effect when Nocturne casts the ability.\",\n",
    "    \"Cooldown reduced to 11 / 10 / 9 / 8 / 7 seconds from 12 / 11 / 10 / 9 / 8.\",\n",
    "    \"Cast range reduced to 600 from 625.\",\n",
    "    \"Minimum base damage per hit reduced to 8 / 10 / 12 / 14 / 16 from 8 / 11 / 14 / 17 / 20.\",\n",
    "    \"Health growth increased to 104 from 90.\",\n",
    "    \"New Effect: Camera now zooms out a bit when casting this spell.\",\n",
    "    \"New Effect: While Aflame and Exalted, or Transcendent, the distance of the waves launched by her basic attacks now scales with her bonus attack range.\",\n",
    "    \"Base health increased to 588 from 518.\",\n",
    "    \"Old Active: Annie wraps herself and  Tibbers in a fiery aura, gaining 30% \\u2212 60% (based on level) bonus movement speed that decays over 1.5 seconds, and reducing damage taken by 13 / 17 / 21 / 25 / 29% for 3 seconds.\",\n",
    "    \"New Effect: Now draws nearby minion aggro when targeting an enemy champion.\",\n",
    "    \"New ability icons.\",\n",
    "    \"Base mana increased to 400 from 377.\",\n",
    "    \"Mana cost reduced to 100 from 150.\",\n",
    "    \"Updated tooltips.\",\n",
    "    \"You will also see a self-only targeting particle when using this ability, depicting what command your pet is following.\",\n",
    "]"
   ]
  },
  {
   "cell_type": "markdown",
   "id": "68b21956",
   "metadata": {},
   "source": [
    "## Classification Accuracy Calculation"
   ]
  },
  {
   "cell_type": "code",
   "execution_count": 3,
   "id": "80bc158c",
   "metadata": {},
   "outputs": [],
   "source": [
    "def calculate_accuracy(labels, ignore=False):\n",
    "    correct_count = 0\n",
    "    ignore_count = 0\n",
    "    for i in range(len(labels)):\n",
    "        if ignore and test_labels[i] == 2:\n",
    "            ignore_count += 1\n",
    "            continue\n",
    "\n",
    "        if labels[i] == test_labels[i]:\n",
    "            correct_count += 1\n",
    "\n",
    "    return correct_count / (len(labels) - ignore_count)"
   ]
  },
  {
   "cell_type": "markdown",
   "id": "e8f0b551",
   "metadata": {},
   "source": [
    "## TextBlob"
   ]
  },
  {
   "cell_type": "code",
   "execution_count": 4,
   "id": "1609d4cc",
   "metadata": {},
   "outputs": [
    {
     "name": "stdout",
     "output_type": "stream",
     "text": [
      "0.32653061224489793\n"
     ]
    }
   ],
   "source": [
    "labels = []\n",
    "for data in test_text:\n",
    "    # Create a TextBlob object\n",
    "    blob = TextBlob(data)\n",
    "\n",
    "    # Analyze sentiment\n",
    "    sentiment_score = blob.sentiment.polarity\n",
    "\n",
    "    # Classify sentiment\n",
    "    if sentiment_score > 0:\n",
    "        labels.append(1)\n",
    "    elif sentiment_score < 0:\n",
    "        labels.append(0)\n",
    "    else:\n",
    "        labels.append(2)\n",
    "\n",
    "print(calculate_accuracy(labels))"
   ]
  },
  {
   "cell_type": "markdown",
   "id": "6924adb4",
   "metadata": {},
   "source": [
    "## VADER"
   ]
  },
  {
   "cell_type": "code",
   "execution_count": 5,
   "id": "fbad2648",
   "metadata": {},
   "outputs": [
    {
     "name": "stdout",
     "output_type": "stream",
     "text": [
      "0.5102040816326531\n"
     ]
    }
   ],
   "source": [
    "labels = []\n",
    "for data in test_text:\n",
    "    # Initialize the VADER sentiment analyzer\n",
    "    analyzer = SentimentIntensityAnalyzer()\n",
    "\n",
    "    # Analyze sentiment\n",
    "    scores = analyzer.polarity_scores(data)\n",
    "\n",
    "    if scores['compound'] > 0:\n",
    "        labels.append(1)\n",
    "    elif scores['compound'] < 0:\n",
    "        labels.append(0)\n",
    "    else:\n",
    "        labels.append(2)\n",
    "\n",
    "print(calculate_accuracy(labels))"
   ]
  },
  {
   "cell_type": "markdown",
   "id": "68232cb9",
   "metadata": {},
   "source": [
    "## DistilBERT"
   ]
  },
  {
   "cell_type": "code",
   "execution_count": 6,
   "id": "4ec3894c",
   "metadata": {},
   "outputs": [
    {
     "name": "stderr",
     "output_type": "stream",
     "text": [
      "D:\\Anaconda\\envs\\CS426\\lib\\site-packages\\huggingface_hub\\file_download.py:1132: FutureWarning: `resume_download` is deprecated and will be removed in version 1.0.0. Downloads always resume when possible. If you want to force a new download, use `force_download=True`.\n",
      "  warnings.warn(\n"
     ]
    },
    {
     "name": "stdout",
     "output_type": "stream",
     "text": [
      "0.6923076923076923\n"
     ]
    }
   ],
   "source": [
    "sentiment_pipeline = pipeline(\"sentiment-analysis\", model=\"distilbert-base-uncased-finetuned-sst-2-english\")\n",
    "\n",
    "labels = []\n",
    "for data in test_text:\n",
    "    sentiment = sentiment_pipeline(data)\n",
    "\n",
    "    if sentiment[0]['label'] == \"POSITIVE\":\n",
    "        labels.append(1)\n",
    "    elif sentiment[0]['label'] == \"NEGATIVE\":\n",
    "        labels.append(0)\n",
    "    else:\n",
    "        labels.append(2)\n",
    "\n",
    "print(calculate_accuracy(labels, True))"
   ]
  },
  {
   "cell_type": "markdown",
   "id": "13e6ec03",
   "metadata": {},
   "source": [
    "## Lexicon-Based"
   ]
  },
  {
   "cell_type": "code",
   "execution_count": 7,
   "id": "ab31fa51",
   "metadata": {},
   "outputs": [
    {
     "name": "stdout",
     "output_type": "stream",
     "text": [
      "0.8367346938775511\n"
     ]
    }
   ],
   "source": [
    "def get_labels(texts):\n",
    "    # Keywords where if increased, it is positive.\n",
    "    # Note: Require spaces before/after \"ad\" in case of certain words (e.g., \"ADjusted\" or \"insteAD\")\n",
    "    norm = ['health', 'damage', 'movement speed', 'mana growth', 'mana per level', 'base mana', 'mana regeneration', 'mana restored', 'attack speed', ' ad ', ' ap ', 'ap scaling', 'duration', 'shield strength', 'heal', 'range', 'armor', 'lifesteal', 'life steal', 'spell vamp', 'slow', 'ability power', 'radius', 'magic reduction', 'gold', 'speed', 'stacks', 'per stack', 'magic resistance', 'hitbox']\n",
    "\n",
    "    # Keywords where if increased, it is negative.\n",
    "    inv_norm = ['mana cost', 'cooldown', 'shield decay', 'cost', 'reload time', 'windup', 'timer', 'delay', 'cast time']\n",
    "\n",
    "    # Keywords for neutral changes.\n",
    "    neutral = ['bug', 'fixed', 'new', 'changed', 'now', 'animation', 'updated', 'added', 'improved']\n",
    "\n",
    "    # Positive keywords.\n",
    "    positive = ['increased']\n",
    "\n",
    "    # Negative keywords.\n",
    "    negative = ['reduced', 'decreased', 'removed']\n",
    "\n",
    "    data = []\n",
    "    labels = []\n",
    "    for text in texts:\n",
    "        text = text.lower()\n",
    "        # Important to check for neutral keywords (e.g., \"bux\") first since patch might include norm/inv_norm keywords.\n",
    "        if any(stat in text for stat in neutral):\n",
    "            label = 2\n",
    "            data.append({'label': label, 'text': text})\n",
    "            labels.append(label)\n",
    "        # Grant will likely be positive.\n",
    "        elif \"grants\" in text:\n",
    "            label = 1\n",
    "            data.append({'label': label, 'text': text})\n",
    "            labels.append(label)\n",
    "        elif any(stat in text for stat in norm):\n",
    "            if any(key in text for key in positive):\n",
    "                label = 1\n",
    "                data.append({'label': label, 'text': text})\n",
    "                labels.append(label)\n",
    "            elif any(key in text for key in negative):\n",
    "                label = 0\n",
    "                data.append({'label': label, 'text': text})\n",
    "                labels.append(label)\n",
    "            else:\n",
    "                label = 1\n",
    "                data.append({'label': label, 'text': text})\n",
    "                labels.append(label)\n",
    "        elif any(stat in text for stat in inv_norm):\n",
    "            if any(key in text for key in positive):\n",
    "                label = 0\n",
    "                data.append({'label': label, 'text': text})\n",
    "                labels.append(label)\n",
    "            elif any(key in text for key in negative):\n",
    "                label = 1\n",
    "                data.append({'label': label, 'text': text})\n",
    "                labels.append(label)\n",
    "            else:\n",
    "                label = 0\n",
    "                data.append({'label': label, 'text': text})\n",
    "                labels.append(label)\n",
    "        else:\n",
    "            label = 2\n",
    "            data.append({'label': label, 'text': text})\n",
    "            labels.append(label)\n",
    "\n",
    "    return labels, data\n",
    "\n",
    "\n",
    "labels, data = get_labels(test_text)\n",
    "\n",
    "print(calculate_accuracy(labels))"
   ]
  }
 ],
 "metadata": {
  "kernelspec": {
   "display_name": "Python 3 (ipykernel)",
   "language": "python",
   "name": "python3"
  },
  "language_info": {
   "codemirror_mode": {
    "name": "ipython",
    "version": 3
   },
   "file_extension": ".py",
   "mimetype": "text/x-python",
   "name": "python",
   "nbconvert_exporter": "python",
   "pygments_lexer": "ipython3",
   "version": "3.9.19"
  }
 },
 "nbformat": 4,
 "nbformat_minor": 5
}
