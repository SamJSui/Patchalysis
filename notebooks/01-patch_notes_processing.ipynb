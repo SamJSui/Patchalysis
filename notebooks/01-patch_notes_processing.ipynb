{
 "cells": [
  {
   "cell_type": "code",
   "execution_count": 8,
   "metadata": {},
   "outputs": [],
   "source": [
    "import re\n",
    "import requests\n",
    "import json\n",
    "\n",
    "import matplotlib.pyplot as plt\n",
    "import numpy as np\n",
    "import pandas as pd\n",
    "import spacy"
   ]
  },
  {
   "cell_type": "code",
   "execution_count": 14,
   "metadata": {},
   "outputs": [
    {
     "data": {
      "text/plain": [
       "{'_id': 'V14_8',\n",
       " 'champions': [{'champion': 'Akali',\n",
       "   'updates': [{'Stats': 'Base health increased to 600 from 570.'}]},\n",
       "  {'champion': 'Azir',\n",
       "   'updates': [{'Stats': 'Base health regeneration reduced to 3.5 from 5.'},\n",
       "    {'Arise!': 'Base damage reduced to 50 / 65 / 80 / 95 / 110 from 50 / 67 / 84 / 101 / 118.'}]},\n",
       "  {'champion': 'Brand',\n",
       "   'updates': [{'Blaze': 'Bug Fix: Can now once again trigger  Dark Harvest.'}]},\n",
       "  {'champion': 'Briar',\n",
       "   'updates': [{'Stats': 'Health growth reduced to 95 from 100.'},\n",
       "    {'Head Rush': 'Cast range increased to 475 units from 450.'},\n",
       "    {'Blood Frenzy': 'Bonus attack speed changed to 55 / 65 / 75 / 85 / 95% from 54 / 68 / 82 / 96 / 110%. Bug Fix: Now properly reveals the nearest target while the effects of nearsight.'}]},\n",
       "  {'champion': 'Draven',\n",
       "   'updates': [{'Spinning Axe': 'Base damage increased to 45 / 50 / 55 / 60 / 65 from 40 / 45 / 50 / 55 / 60.'}]},\n",
       "  {'champion': 'Evelynn',\n",
       "   'updates': [{'General': 'Bug Fix: VO lines for first encounter with  Brand and  Dr. Mundo are no longer incorrectly swapped.'},\n",
       "    {'Last Caress': 'Bug Fix: Now properly triggers her VO lines.'}]},\n",
       "  {'champion': 'Galio',\n",
       "   'updates': [{'Stats': 'Base movement speed increased to 340 from 335.'},\n",
       "    {'Winds of War': 'Cooldown reduced to 11 / 10 / 9 / 8 / 7 seconds from 12 / 10.75 / 9.5 / 8.25 / 7.'}]},\n",
       "  {'champion': 'Graves',\n",
       "   'updates': [{'New Destiny': 'Increased non-growth attack speed scaling for decreasing reload time by 35%. Pellet critical strike bonus damage increased to 45% from 40%. Bonus damage per pellet critical strike increased to (33.75% +  22.5%) from (30% +  20%). Relative bonus damage of critical attacks where all pellets hit increased to \\xa078.3% (+  30%) from \\xa073.3% (+  26.7%). Maximum critical strike damage increased to 249.52% − 356.48% (based on level) (+ 45.71% − 65.3% (based on level)) AD from 242.52% − 346.48% (based on level) (+ 37.31% − 53.3% (based on level)) AD.'}]},\n",
       "  {'champion': 'Hwei',\n",
       "   'updates': [{'Signature of the Visionary': 'AP ratio increased to 35% AP from 30% AP.'}]},\n",
       "  {'champion': 'Jarvan IV',\n",
       "   'updates': [{'Martial Cadence': \"Health ratio increased to 7% of target's current health from 6%.\"}]},\n",
       "  {'champion': 'Jhin',\n",
       "   'updates': [{'Whisper': 'Base bonus movement speed increased to 14% from 10%.'},\n",
       "    {'Dancing Grenade': 'Minimum base damage reduced to 44 / 69 / 94 / 119 / 144 from 45 / 70 / 95 / 120 / 145. Minimum AD ratio increased to 44 / 51.5 / 59 / 66.5 / 74% AD from 35 / 42.5 / 50 / 57.5 / 65% AD.'}]},\n",
       "  {'champion': \"Kai'Sa\",\n",
       "   'updates': [{'Icathian Rain': 'Bonus AD ratio per missile increased to 55% bonus AD from 50%.'}]},\n",
       "  {'champion': 'LeBlanc',\n",
       "   'updates': [{'Sigil of Malice': 'Base damage increased to 70 / 95 / 120 / 145 / 170 from 65 / 90 / 115 / 140 / 165.'},\n",
       "    {'Distortion': 'Cooldown reduced to 15 / 13.75 / 12.5 / 11.25 / 10 seconds from 18 / 16 / 14 / 12 / 10.'}]},\n",
       "  {'champion': 'Mordekaiser',\n",
       "   'updates': [{'Darkness Rise': 'Bug Fix: No longer gains a stack for attacks that are dodged.'},\n",
       "    {'Obliterate': 'Cooldown reduced to 8 / 7 / 6 / 5 / 4 seconds from 9 / 7.75 / 6.5 / 5.25 / 4.'},\n",
       "    {\"Death's Grasp\": 'Base damage reduced to 70 / 85 / 100 / 115 / 130 from 80 / 95 / 110 / 125 / 140.'},\n",
       "    {'Realm of Death': 'Removed: No longer dispelled if the target uses an applicable  cleansing effect. Removal interaction had parity with the removal interactions of  suppression; cleanses that would remove suppression now no longer dispel the Realm of Death. Crowd control immunities will still resist banishment.'}]},\n",
       "  {'champion': 'Olaf',\n",
       "   'updates': [{'Undertow': 'Bonus monster damage increased to 5 / 15 / 25 / 35 / 45 from 5 / 10 / 15 / 20 / 25.'}]},\n",
       "  {'champion': 'Renekton',\n",
       "   'updates': [{'Ruthless Predator': 'Bug Fix: Now properly applies spell effects.'}]},\n",
       "  {'champion': 'Rengar',\n",
       "   'updates': [{'Unseen Predator': \"Bug Fix: No longer loses  Navori Quickblades' Transcendence passive entirely the first time stacks are consumed, after entering combat.\"},\n",
       "    {'Savagery': \"Now properly applies  Infinity Edge's critical strike damage bonus.[2]\"}]},\n",
       "  {'champion': 'Ryze',\n",
       "   'updates': [{'Rune Prison': 'Slow increased to 50% from 35%. Cooldown reduced to 11 / 10.5 / 10 / 9.5 / 9 seconds from 13 / 12 / 11 / 10 / 9.'}]},\n",
       "  {'champion': 'Shyvana',\n",
       "   'updates': [{'Twin Bite': 'Bug Fix: Dragon form version no longer incorrectly consumes a  Hail of Blades stack when used as a basic attack reset.'}]},\n",
       "  {'champion': 'Skarner',\n",
       "   'updates': [{'Stats': 'Mana growth reduced to 40 from 45. Mana regeneration growth increased to 0.6 from 0.45.'},\n",
       "    {'Shattered Earth': 'Cast time reduced to 0.35 seconds from 0.5. Boulder duration increased to 5 seconds from 3.5. Base damage per hit increased to 10 / 25 / 40 / 55 / 70 from 10 / 20 / 30 / 40 / 50. Bonus AD ratio per hit increased to 60% bonus AD from 40% bonus AD. Mana cost reduced to 30 / 35 / 40 / 45 / 50 from 40 / 45 / 50 / 55 / 60.'},\n",
       "    {'Upheaval': 'Recast timer reduced to 0.5 seconds from 0.75. Base damage increased to 10 / 25 / 40 / 55 / 70 from 10 / 20 / 30 / 40 / 50. Bonus AD ratio increased to 60% bonus AD from 40% bonus AD. Bug Fix: No longer sometimes fails to cast if used at the same frame as  Flash.'},\n",
       "    {'Seismic Bastion': \"Base damage reduced to 50 / 75 / 100 / 125 / 150 from 60 / 90 / 120 / 150 / 180. Mana cost increased to 60 / 65 / 70 / 75 / 80 from 50 / 55 / 60 / 65 / 70. Bug Fix: Area no longer has a hole of 100 units' height in an arc in the cast direction. Bug Fix: Area now applies over the correct area after  Flash is used during the cast time.\"},\n",
       "    {\"Ixtal's Impact\": 'Bug Fix: VFX and particles for exiting terrain now trigger at the correct time. Previously, they would trigger with a slight delay after exiting.'},\n",
       "    {'Impale': 'Bug Fix: Now applies  Threads of Vibration to minions and monsters hit.'}]},\n",
       "  {'champion': 'Sylas',\n",
       "   'updates': [{'Chain Lash': 'Monster detonation damage increased to 100% from 70%. Minion damage unchanged.'}]},\n",
       "  {'champion': 'Taliyah',\n",
       "   'updates': [{'General': 'No longer has VO for her dance emote.'}]},\n",
       "  {'champion': 'Teemo',\n",
       "   'updates': [{'Toxic Shot': 'Bug Fix: Can now once again trigger  Dark Harvest.'}]},\n",
       "  {'champion': 'Thresh',\n",
       "   'updates': [{'Stats': 'Base armor increased to 33 from 31. Magic resistance growth increased to 1.55 from 1.3.'}]},\n",
       "  {'champion': 'Volibear',\n",
       "   'updates': [{'The Relentless Storm': \"Bug Fix: Adaptive and converted stats are now considered for this ability's scalings.\"}]},\n",
       "  {'champion': 'Zac',\n",
       "   'updates': [{'Stats': 'Base health regeneration reduced to 5 from 8.'}]},\n",
       "  {'champion': 'Zeri',\n",
       "   'updates': [{'Stats': 'Base health reduced to 600 from 630.'}]},\n",
       "  {'champion': 'Zyra',\n",
       "   'updates': [{'Garden of Thorns': 'Bug Fix: Certain single target abilities no longer deal an incorrect amount of damage to Thorn Spitters and Vine Lashers instead of the intended 8.'}]}],\n",
       " 'release_date': 'April 17th, 2024'}"
      ]
     },
     "execution_count": 14,
     "metadata": {},
     "output_type": "execute_result"
    }
   ],
   "source": [
    "url = 'https://patchalysis.com/api/patch/notes/14.8'\n",
    "patch_notes = requests.get(url)\n",
    "patch_notes.json()"
   ]
  },
  {
   "cell_type": "code",
   "execution_count": null,
   "metadata": {},
   "outputs": [],
   "source": [
    "# Assuming 'text' is the extracted description from your patch notes\n",
    "def clean_text(text):\n",
    "    # Convert text to lowercase\n",
    "    text = text.lower()\n",
    "    # Remove numbers, special characters, and punctuation\n",
    "    text = re.sub(r'[\\d\\W]+', ' ', text)\n",
    "    # Remove stopwords\n",
    "    stop_words = set(stopwords.words('english'))\n",
    "    text = ' '.join(word for word in text.split() if word not in stop_words)\n",
    "    return text"
   ]
  }
 ],
 "metadata": {
  "kernelspec": {
   "display_name": "Python 3",
   "language": "python",
   "name": "python3"
  },
  "language_info": {
   "codemirror_mode": {
    "name": "ipython",
    "version": 3
   },
   "file_extension": ".py",
   "mimetype": "text/x-python",
   "name": "python",
   "nbconvert_exporter": "python",
   "pygments_lexer": "ipython3",
   "version": "3.10.11"
  }
 },
 "nbformat": 4,
 "nbformat_minor": 2
}
